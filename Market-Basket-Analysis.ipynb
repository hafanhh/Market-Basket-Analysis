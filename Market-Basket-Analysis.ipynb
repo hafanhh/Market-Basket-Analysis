{
 "cells": [
  {
   "cell_type": "code",
   "execution_count": 17,
   "metadata": {},
   "outputs": [],
   "source": [
    "import ssl\n",
    "ssl._create_default_https_context = ssl._create_unverified_context\n",
    "\n",
    "import pandas as pd\n",
    "import numpy as np\n",
    "import matplotlib.pyplot as plt\n",
    "import seaborn as sns\n",
    "from pandas.api.types import is_string_dtype, is_numeric_dtype\n",
    "from scipy import stats\n",
    "from itertools import permutations\n",
    "from mlxtend.preprocessing import TransactionEncoder"
   ]
  },
  {
   "cell_type": "markdown",
   "metadata": {},
   "source": [
    "# Data sets"
   ]
  },
  {
   "cell_type": "code",
   "execution_count": 18,
   "metadata": {},
   "outputs": [
    {
     "name": "stdout",
     "output_type": "stream",
     "text": [
      "          Transaction\n",
      "0    History,Bookmark\n",
      "1    History,Bookmark\n",
      "2    Fiction,Bookmark\n",
      "3  Biography,Bookmark\n",
      "4    History,Bookmark\n",
      "   movieId                               title  \\\n",
      "0        1                    Toy Story (1995)   \n",
      "1        2                      Jumanji (1995)   \n",
      "2        3             Grumpier Old Men (1995)   \n",
      "3        4            Waiting to Exhale (1995)   \n",
      "4        5  Father of the Bride Part II (1995)   \n",
      "\n",
      "                                        genres  \n",
      "0  Adventure|Animation|Children|Comedy|Fantasy  \n",
      "1                   Adventure|Children|Fantasy  \n",
      "2                               Comedy|Romance  \n",
      "3                         Comedy|Drama|Romance  \n",
      "4                                       Comedy  \n",
      "  InvoiceNo StockCode                          Description\n",
      "0    562583    35637A      IVORY STRING CURTAIN WITH POLE \n",
      "1    562583    35638A        PINK AND BLACK STRING CURTAIN\n",
      "2    562583    84927F                PSYCHEDELIC TILE HOOK\n",
      "3    562583     22425                ENAMEL COLANDER CREAM\n",
      "4    562583     16008  SMALL FOLDING SCISSOR(POINTED EDGE)\n"
     ]
    }
   ],
   "source": [
    "# Read datasets\n",
    "trans = pd.read_csv('/Users/hafanhh/Desktop/Market Basket Analysis in Python/bookstore_transactions.csv')\n",
    "movies = pd.read_csv('https://assets.datacamp.com/production/repositories/5654/datasets/292498b8454c35e12e9be7ef18bc53c89b3bd073/movielens_movies.csv')\n",
    "retail = pd.read_csv('https://assets.datacamp.com/production/repositories/5654/datasets/5a3bc2ebccb77684a6d8a9f3fbec23fe04d4e3aa/online_retail.csv')\n",
    "\n",
    "print(trans.head())\n",
    "print(movies.head())\n",
    "print(retail.head())"
   ]
  },
  {
   "cell_type": "markdown",
   "metadata": {},
   "source": [
    "# 1. Book Transaction datatset"
   ]
  },
  {
   "cell_type": "markdown",
   "metadata": {},
   "source": [
    "### 1.1. Cross-selling products\n",
    "\n",
    "The small grocery store has decided to cross-sell chewing gum with either coffee, cereal, or bread. To determine which of the three items is best to use, the store owner has performed an experiment. For one week, she sold chewing gum next to the register and recorded all transactions where it was purchased with either coffee, cereal, or bread. "
   ]
  },
  {
   "cell_type": "code",
   "execution_count": 19,
   "metadata": {},
   "outputs": [
    {
     "data": {
      "text/plain": [
       "Transaction       \n",
       "Biography,Bookmark    40\n",
       "Fiction,Bookmark      25\n",
       "History,Bookmark      25\n",
       "Poetry,Bookmark        9\n",
       "Name: count, dtype: int64"
      ]
     },
     "execution_count": 19,
     "metadata": {},
     "output_type": "execute_result"
    }
   ],
   "source": [
    "trans.value_counts()"
   ]
  },
  {
   "cell_type": "markdown",
   "metadata": {},
   "source": [
    "* Identifying association rules"
   ]
  },
  {
   "cell_type": "code",
   "execution_count": 20,
   "metadata": {},
   "outputs": [
    {
     "name": "stdout",
     "output_type": "stream",
     "text": [
      "[['History', 'Bookmark'], ['History', 'Bookmark'], ['Fiction', 'Bookmark'], ['Biography', 'Bookmark'], ['History', 'Bookmark']]\n"
     ]
    }
   ],
   "source": [
    "# Split transaction strings into lists\n",
    "transactions = trans['Transaction'].apply(lambda t: t.split(','))\n",
    "\n",
    "# Convert Df into list of strings\n",
    "transactions = list(transactions)\n",
    "print(transactions[:5])"
   ]
  },
  {
   "cell_type": "code",
   "execution_count": 21,
   "metadata": {},
   "outputs": [
    {
     "name": "stdout",
     "output_type": "stream",
     "text": [
      "[('History', 'Bookmark'), ('History', 'Fiction'), ('History', 'Biography'), ('History', 'Poetry'), ('Bookmark', 'History'), ('Bookmark', 'Fiction'), ('Bookmark', 'Biography'), ('Bookmark', 'Poetry'), ('Fiction', 'History'), ('Fiction', 'Bookmark'), ('Fiction', 'Biography'), ('Fiction', 'Poetry'), ('Biography', 'History'), ('Biography', 'Bookmark'), ('Biography', 'Fiction'), ('Biography', 'Poetry'), ('Poetry', 'History'), ('Poetry', 'Bookmark'), ('Poetry', 'Fiction'), ('Poetry', 'Biography')]\n",
      "20\n"
     ]
    }
   ],
   "source": [
    "# Define the set of groceries\n",
    "flattened = [i for t in transactions for i in t]\n",
    "books = list(set(flattened))\n",
    "\n",
    "# Generate all possible rules from groceries list\n",
    "rules = list(permutations(books, 2))\n",
    "\n",
    "# Print the set of rules\n",
    "print(rules)\n",
    "\n",
    "# Print the number of rules\n",
    "print(len(rules))"
   ]
  },
  {
   "cell_type": "markdown",
   "metadata": {},
   "source": [
    "## 1.2. The support metric"
   ]
  },
  {
   "cell_type": "markdown",
   "metadata": {},
   "source": [
    "* One-hot encoding transaction data"
   ]
  },
  {
   "cell_type": "code",
   "execution_count": 22,
   "metadata": {},
   "outputs": [
    {
     "name": "stdout",
     "output_type": "stream",
     "text": [
      "    Biography  Bookmark  Fiction  History  Poetry\n",
      "0       False      True    False     True   False\n",
      "1       False      True    False     True   False\n",
      "2       False      True     True    False   False\n",
      "3        True      True    False    False   False\n",
      "4       False      True    False     True   False\n",
      "..        ...       ...      ...      ...     ...\n",
      "94       True      True    False    False   False\n",
      "95      False      True    False    False    True\n",
      "96      False      True    False     True   False\n",
      "97       True      True    False    False   False\n",
      "98       True      True    False    False   False\n",
      "\n",
      "[99 rows x 5 columns]\n"
     ]
    }
   ],
   "source": [
    "# Instantiate transaction encoder and identify unique items in transactions\n",
    "encoder = TransactionEncoder().fit(transactions)\n",
    "\n",
    "# One-hot encode transactions\n",
    "onehot = encoder.transform(transactions)\n",
    "\n",
    "# Convert one-hot encoded data to DataFrame\n",
    "onehot = pd.DataFrame(onehot, columns = encoder.columns_)\n",
    "\n",
    "# Print the one-hot encoded transaction dataset\n",
    "print(onehot)"
   ]
  },
  {
   "cell_type": "markdown",
   "metadata": {},
   "source": [
    "* Computing the suport metric"
   ]
  },
  {
   "cell_type": "code",
   "execution_count": 23,
   "metadata": {},
   "outputs": [
    {
     "name": "stdout",
     "output_type": "stream",
     "text": [
      "Biography    0.404040\n",
      "Bookmark     1.000000\n",
      "Fiction      0.252525\n",
      "History      0.252525\n",
      "Poetry       0.090909\n",
      "dtype: float64\n"
     ]
    }
   ],
   "source": [
    "# Compute the support\n",
    "support = onehot.mean()\n",
    "\n",
    "# Print the support\n",
    "print(support)"
   ]
  },
  {
   "cell_type": "code",
   "execution_count": 24,
   "metadata": {},
   "outputs": [
    {
     "name": "stdout",
     "output_type": "stream",
     "text": [
      "Biography             0.404040\n",
      "Bookmark              1.000000\n",
      "Fiction               0.252525\n",
      "History               0.252525\n",
      "Poetry                0.090909\n",
      "Biography+Bookmark    0.404040\n",
      "dtype: float64\n"
     ]
    }
   ],
   "source": [
    "# Add a jam+bread column to the DataFrame onehot\n",
    "onehot['Biography+Bookmark'] = np.logical_and(onehot['Biography'], onehot['Bookmark'])\n",
    "\n",
    "# Compute the support\n",
    "support = onehot.mean()\n",
    "\n",
    "# Print the support values\n",
    "print(support)"
   ]
  }
 ],
 "metadata": {
  "kernelspec": {
   "display_name": "Python 3",
   "language": "python",
   "name": "python3"
  },
  "language_info": {
   "codemirror_mode": {
    "name": "ipython",
    "version": 3
   },
   "file_extension": ".py",
   "mimetype": "text/x-python",
   "name": "python",
   "nbconvert_exporter": "python",
   "pygments_lexer": "ipython3",
   "version": "3.11.3"
  }
 },
 "nbformat": 4,
 "nbformat_minor": 2
}
